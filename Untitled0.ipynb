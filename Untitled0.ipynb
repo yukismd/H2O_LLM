{
  "nbformat": 4,
  "nbformat_minor": 0,
  "metadata": {
    "colab": {
      "provenance": [],
      "toc_visible": true,
      "authorship_tag": "ABX9TyMxO1mSICn+AmDKqDChHtPG",
      "include_colab_link": true
    },
    "kernelspec": {
      "name": "python3",
      "display_name": "Python 3"
    },
    "language_info": {
      "name": "python"
    }
  },
  "cells": [
    {
      "cell_type": "markdown",
      "metadata": {
        "id": "view-in-github",
        "colab_type": "text"
      },
      "source": [
        "<a href=\"https://colab.research.google.com/github/yukismd/LLM/blob/main/Untitled0.ipynb\" target=\"_parent\"><img src=\"https://colab.research.google.com/assets/colab-badge.svg\" alt=\"Open In Colab\"/></a>"
      ]
    },
    {
      "cell_type": "code",
      "source": [],
      "metadata": {
        "id": "bfhMOro5vDl9"
      },
      "execution_count": 8,
      "outputs": []
    },
    {
      "cell_type": "code",
      "source": [
        "!!git clone https://github.com/yukismd/LLM.git"
      ],
      "metadata": {
        "colab": {
          "base_uri": "https://localhost:8080/"
        },
        "id": "PQ9rKj8XvJPw",
        "outputId": "0656f574-9785-448f-a53e-e85f32f4a7f8"
      },
      "execution_count": 4,
      "outputs": [
        {
          "output_type": "execute_result",
          "data": {
            "text/plain": [
              "[\"Cloning into 'LLM'...\",\n",
              " 'remote: Enumerating objects: 3, done.\\x1b[K',\n",
              " 'remote: Counting objects:  33% (1/3)\\x1b[K',\n",
              " 'remote: Counting objects:  66% (2/3)\\x1b[K',\n",
              " 'remote: Counting objects: 100% (3/3)\\x1b[K',\n",
              " 'remote: Counting objects: 100% (3/3), done.\\x1b[K',\n",
              " 'remote: Total 3 (delta 0), reused 0 (delta 0), pack-reused 0\\x1b[K',\n",
              " 'Receiving objects:  33% (1/3)',\n",
              " 'Receiving objects:  66% (2/3)',\n",
              " 'Receiving objects: 100% (3/3)',\n",
              " 'Receiving objects: 100% (3/3), done.']"
            ]
          },
          "metadata": {},
          "execution_count": 4
        }
      ]
    },
    {
      "cell_type": "code",
      "source": [
        "!ls"
      ],
      "metadata": {
        "colab": {
          "base_uri": "https://localhost:8080/"
        },
        "id": "W21ON0CBwBAh",
        "outputId": "03923417-1de3-4cbf-b6a8-379ab9d1687a"
      },
      "execution_count": 5,
      "outputs": [
        {
          "output_type": "stream",
          "name": "stdout",
          "text": [
            "LLM  sample_data\n"
          ]
        }
      ]
    },
    {
      "cell_type": "code",
      "source": [
        "import os\n",
        "path = './LLM'\n",
        "\n",
        "os.chdir(path)"
      ],
      "metadata": {
        "id": "3qDW3J1bwCnj"
      },
      "execution_count": 6,
      "outputs": []
    },
    {
      "cell_type": "code",
      "source": [
        "!pwd"
      ],
      "metadata": {
        "colab": {
          "base_uri": "https://localhost:8080/"
        },
        "id": "23qWgQVqwLGg",
        "outputId": "d3eb544c-9409-445c-ae56-3e4c7435fa4d"
      },
      "execution_count": 7,
      "outputs": [
        {
          "output_type": "stream",
          "name": "stdout",
          "text": [
            "/content/LLM\n"
          ]
        }
      ]
    },
    {
      "cell_type": "code",
      "source": [
        "!ls"
      ],
      "metadata": {
        "colab": {
          "base_uri": "https://localhost:8080/"
        },
        "id": "-q5l0s7YwMRF",
        "outputId": "d2ce6802-20df-4cf3-8df6-d7c389ede47f"
      },
      "execution_count": 10,
      "outputs": [
        {
          "output_type": "stream",
          "name": "stdout",
          "text": [
            "README.md\n"
          ]
        }
      ]
    },
    {
      "cell_type": "code",
      "source": [],
      "metadata": {
        "id": "YTg5OAVwwNRl"
      },
      "execution_count": 11,
      "outputs": []
    },
    {
      "cell_type": "code",
      "source": [],
      "metadata": {
        "id": "khdpsaMxwc-W"
      },
      "execution_count": null,
      "outputs": []
    }
  ]
}