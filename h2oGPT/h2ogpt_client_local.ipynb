{
 "cells": [
  {
   "cell_type": "markdown",
   "id": "c6c9da0d-b8ea-48d6-8684-572e55f56e62",
   "metadata": {},
   "source": [
    "## h2oGPT Python Client"
   ]
  },
  {
   "cell_type": "markdown",
   "id": "65383028-77f2-4dba-bf32-7945dc669a53",
   "metadata": {},
   "source": [
    "h2oGPT Clientに関して: https://github.com/h2oai/h2ogpt/tree/main/client  \n",
    "h2oGPT: https://github.com/h2oai/h2ogpt"
   ]
  },
  {
   "cell_type": "code",
   "execution_count": 1,
   "id": "36c70522-df71-41fd-9fe1-541c8e9a9ac7",
   "metadata": {},
   "outputs": [],
   "source": [
    "import os\n",
    "import asyncio\n",
    "\n",
    "from h2ogpt_client import Client"
   ]
  },
  {
   "cell_type": "code",
   "execution_count": 2,
   "id": "6914b9b0-72a5-4635-af37-e904cd714fe2",
   "metadata": {},
   "outputs": [
    {
     "data": {
      "text/plain": [
       "h2ogpt_client._core.Client"
      ]
     },
     "execution_count": 2,
     "metadata": {},
     "output_type": "execute_result"
    }
   ],
   "source": [
    "Client"
   ]
  },
  {
   "cell_type": "code",
   "execution_count": 5,
   "id": "eab5252c-2df4-4447-8b4a-b4deb5e58d50",
   "metadata": {},
   "outputs": [],
   "source": [
    "#h2ogpt_key = \"Access-Key\"   # Access Keyが設定されている場合\n",
    "h2ogpt_key = ''"
   ]
  },
  {
   "cell_type": "code",
   "execution_count": 6,
   "id": "ec37344c-5816-42e2-bc87-e072c80b2175",
   "metadata": {},
   "outputs": [
    {
     "data": {
      "text/plain": [
       "<h2ogpt_client._core.Client at 0x10437e620>"
      ]
     },
     "execution_count": 6,
     "metadata": {},
     "output_type": "execute_result"
    }
   ],
   "source": [
    "#client = Client(\"https://gpt.h2o.ai\", h2ogpt_key=h2ogpt_key)\n",
    "client = Client(\"http://13.228.25.9:7860/\", h2ogpt_key=h2ogpt_key)   # AWS EC2に構築したh2oGPT\n",
    "client"
   ]
  },
  {
   "cell_type": "markdown",
   "id": "36c83f97-96b3-43e3-8169-e5f58ab0d706",
   "metadata": {},
   "source": [
    "### Completion"
   ]
  },
  {
   "cell_type": "code",
   "execution_count": 7,
   "id": "9486404d-901b-4fc6-8ce6-e513bbfbfe2d",
   "metadata": {},
   "outputs": [
    {
     "name": "stdout",
     "output_type": "stream",
     "text": [
      "sync text completion response: こんにちは！どのようにお手伝いできますか？\n"
     ]
    }
   ],
   "source": [
    "# Text completion\n",
    "text_completion = client.text_completion.create()\n",
    "response = text_completion.complete_sync(\"こんにちは\")\n",
    "print(\"sync text completion response: %s\" % response)"
   ]
  },
  {
   "cell_type": "code",
   "execution_count": 8,
   "id": "73476e39-456d-4bfa-ab2d-101d8c6f587d",
   "metadata": {},
   "outputs": [
    {
     "data": {
      "text/plain": [
       "'私はGPT-3と呼ばれるAIです。'"
      ]
     },
     "execution_count": 8,
     "metadata": {},
     "output_type": "execute_result"
    }
   ],
   "source": [
    "text_completion.complete_sync(\"あなたの名前は？\")"
   ]
  },
  {
   "cell_type": "code",
   "execution_count": 9,
   "id": "c89f88ae-e737-4cb2-bdab-72d760e4d340",
   "metadata": {},
   "outputs": [
    {
     "name": "stdout",
     "output_type": "stream",
     "text": [
      "多くの人々がリゾート地として訪れる場所である。湘南エリアには、鎌倉や藤沢、茅ヶ崎などの市町があり、それぞれ独自の魅力を持っている。特に鎌倉は古都として知られ、多くの歴史的な寺社や仏像が点在している。また、湘南の海岸線は美しい景色が広がり、夕日がとても美しいことでも有名である。湘南はまた、サーフィンのメッカとしても知られており、多くのサーファーが訪れる。湘南の波は安定しており、初心者から上級者まで楽しむことができる。さらに、湘南には美味しい海の幸や地元の食材を使った料理も豊富にあり、グルメな人々にも人気がある。湘南は自然と文化が融合した魅力的な地域であり、多くの人々に愛されている。\n"
     ]
    }
   ],
   "source": [
    "print( text_completion.complete_sync(\"湘南は、神奈川県の南西部を指す名称である。海水浴やサーフィンなどのマリンスポーツの聖地とされ、\") )"
   ]
  },
  {
   "cell_type": "markdown",
   "id": "99a9ebb6-de5b-4003-9a37-a9e12264bd2c",
   "metadata": {},
   "source": [
    "### Chat Completion"
   ]
  },
  {
   "cell_type": "code",
   "execution_count": 10,
   "id": "c0b5d8aa-84c9-4913-bcb3-35f41bcc54e3",
   "metadata": {},
   "outputs": [
    {
     "name": "stdout",
     "output_type": "stream",
     "text": [
      "sync chat completion gpt: こんにちは。はい、今日は雨ですね。どんよりとした天気ですが、お出かけの際は傘をお持ちくださいね。\n"
     ]
    }
   ],
   "source": [
    "# Chat completion\n",
    "chat_completion = client.chat_completion.create()\n",
    "reply = chat_completion.chat_sync(\"こんにちは。今日は雨ですね。\")\n",
    "print(\"sync chat completion gpt: %s\" % reply[\"gpt\"])"
   ]
  },
  {
   "cell_type": "code",
   "execution_count": 11,
   "id": "d7b03b50-8014-46c1-8f9a-59192824b5f3",
   "metadata": {},
   "outputs": [
    {
     "data": {
      "text/plain": [
       "{'user': 'こんにちは。今日は雨ですね。',\n",
       " 'gpt': 'こんにちは。はい、今日は雨ですね。どんよりとした天気ですが、お出かけの際は傘をお持ちくださいね。'}"
      ]
     },
     "execution_count": 11,
     "metadata": {},
     "output_type": "execute_result"
    }
   ],
   "source": [
    "reply"
   ]
  },
  {
   "cell_type": "code",
   "execution_count": 12,
   "id": "c6fb7367-871a-410e-adbf-4a90652fcca8",
   "metadata": {},
   "outputs": [
    {
     "name": "stdout",
     "output_type": "stream",
     "text": [
      "sync text completion user: こんにちは。今日は雨ですね。 gpt: こんにちは。はい、今日は雨ですね。どんよりとした天気ですが、お出かけの際は傘をお持ちくださいね。\n"
     ]
    }
   ],
   "source": [
    "print(\"sync text completion user: %s gpt: %s\" % (reply[\"user\"], reply[\"gpt\"]))"
   ]
  },
  {
   "cell_type": "code",
   "execution_count": 13,
   "id": "275bf5d9-4de6-466a-a600-a69d8d012dea",
   "metadata": {},
   "outputs": [
    {
     "data": {
      "text/plain": [
       "('こんにちは。今日は雨ですね。', 'こんにちは。はい、今日は雨ですね。どんよりとした天気ですが、お出かけの際は傘をお持ちくださいね。')"
      ]
     },
     "execution_count": 13,
     "metadata": {},
     "output_type": "execute_result"
    }
   ],
   "source": [
    "reply[\"user\"], reply[\"gpt\"]"
   ]
  },
  {
   "cell_type": "code",
   "execution_count": 14,
   "id": "9ef6773b-b7a2-4117-a44e-eb0298f77756",
   "metadata": {},
   "outputs": [
    {
     "data": {
      "text/plain": [
       "{'user': 'こんにちは。今日は雨ですね。',\n",
       " 'gpt': 'こんにちは。はい、今日は雨ですね。どんよりとした天気ですが、お出かけの際は傘をお持ちくださいね。'}"
      ]
     },
     "execution_count": 14,
     "metadata": {},
     "output_type": "execute_result"
    }
   ],
   "source": [
    "reply"
   ]
  },
  {
   "cell_type": "code",
   "execution_count": 15,
   "id": "3e2a16a9-a88a-40cf-9891-054f1cb62b30",
   "metadata": {},
   "outputs": [
    {
     "data": {
      "text/plain": [
       "[{'user': 'こんにちは。今日は雨ですね。',\n",
       "  'gpt': 'こんにちは。はい、今日は雨ですね。どんよりとした天気ですが、お出かけの際は傘をお持ちくださいね。'}]"
      ]
     },
     "execution_count": 15,
     "metadata": {},
     "output_type": "execute_result"
    }
   ],
   "source": [
    "chat_completion.chat_history()"
   ]
  },
  {
   "cell_type": "code",
   "execution_count": 16,
   "id": "4e21af4f-ee46-4d97-8d43-0b747a4995ca",
   "metadata": {},
   "outputs": [
    {
     "data": {
      "text/plain": [
       "('今日の予定は？', '私はAIですので、予定はありません。ただし、あなたの予定についてお話しすることはできます。今日の予定は何ですか？')"
      ]
     },
     "execution_count": 16,
     "metadata": {},
     "output_type": "execute_result"
    }
   ],
   "source": [
    "reply = chat_completion.chat_sync(\"今日の予定は？\")\n",
    "reply[\"user\"], reply[\"gpt\"]"
   ]
  },
  {
   "cell_type": "code",
   "execution_count": 17,
   "id": "acbcdd77-03fd-4fef-94a9-7ef66231ad8e",
   "metadata": {},
   "outputs": [
    {
     "data": {
      "text/plain": [
       "[{'user': 'こんにちは。今日は雨ですね。',\n",
       "  'gpt': 'こんにちは。はい、今日は雨ですね。どんよりとした天気ですが、お出かけの際は傘をお持ちくださいね。'},\n",
       " {'user': '今日の予定は？',\n",
       "  'gpt': '私はAIですので、予定はありません。ただし、あなたの予定についてお話しすることはできます。今日の予定は何ですか？'}]"
      ]
     },
     "execution_count": 17,
     "metadata": {},
     "output_type": "execute_result"
    }
   ],
   "source": [
    "chat_completion.chat_history()"
   ]
  },
  {
   "cell_type": "code",
   "execution_count": 18,
   "id": "a93a0f63-9dc0-4406-b900-1b5ebbcba2c3",
   "metadata": {},
   "outputs": [
    {
     "data": {
      "text/plain": [
       "[{'user': 'こんにちは。今日は雨ですね。',\n",
       "  'gpt': 'こんにちは。はい、今日は雨ですね。どんよりとした天気ですが、お出かけの際は傘をお持ちくださいね。'},\n",
       " {'user': '今日の予定は？',\n",
       "  'gpt': '私はAIですので、予定はありません。ただし、あなたの予定についてお話しすることはできます。今日の予定は何ですか？'},\n",
       " {'user': '今日の昼から家族と箱根までドライブする予定です。',\n",
       "  'gpt': 'それは素晴らしい予定ですね！箱根は美しい景色や温泉が楽しめる場所です。ドライブ中も風景を楽しみながら、家族との時間を満喫できるでしょう。安全運転に気を付けて、楽しい旅行をお過ごしください！'}]"
      ]
     },
     "execution_count": 18,
     "metadata": {},
     "output_type": "execute_result"
    }
   ],
   "source": [
    "chat_completion.chat_sync(\"今日の昼から家族と箱根までドライブする予定です。\")\n",
    "chat_completion.chat_history()"
   ]
  },
  {
   "cell_type": "markdown",
   "id": "bf3f776e-9f3c-4ffe-bdfb-e68eec66ca30",
   "metadata": {},
   "source": [
    "### Other"
   ]
  },
  {
   "cell_type": "code",
   "execution_count": 19,
   "id": "ad32645a-d8c6-4208-943a-c9f7f8b18b39",
   "metadata": {},
   "outputs": [
    {
     "data": {
      "text/plain": [
       "['gpt-3.5-turbo']"
      ]
     },
     "execution_count": 19,
     "metadata": {},
     "output_type": "execute_result"
    }
   ],
   "source": [
    "client.models.list()"
   ]
  },
  {
   "cell_type": "code",
   "execution_count": null,
   "id": "f089bc07-2256-4ef6-9ed1-eb4fae21bef1",
   "metadata": {},
   "outputs": [],
   "source": []
  }
 ],
 "metadata": {
  "kernelspec": {
   "display_name": "Python 3 (ipykernel)",
   "language": "python",
   "name": "python3"
  },
  "language_info": {
   "codemirror_mode": {
    "name": "ipython",
    "version": 3
   },
   "file_extension": ".py",
   "mimetype": "text/x-python",
   "name": "python",
   "nbconvert_exporter": "python",
   "pygments_lexer": "ipython3",
   "version": "3.10.12"
  }
 },
 "nbformat": 4,
 "nbformat_minor": 5
}
