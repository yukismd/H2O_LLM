{
 "cells": [
  {
   "cell_type": "markdown",
   "id": "a9dc85b9",
   "metadata": {},
   "source": [
    "## Collection-specific API - RAG\n",
    "Collection-specific API（事前に作成したCollectionのAPIキーを利用）を利用したLLM/RAGの実施。"
   ]
  },
  {
   "cell_type": "markdown",
   "id": "11e0ec55",
   "metadata": {},
   "source": [
    "##### 注意: ドキュメントの読み込みと知識データベース化はデフォルト設定で事前実施済み、チャンクサイズとオーバーラップ設定の調整によって、精度改善の余地あり"
   ]
  },
  {
   "cell_type": "code",
   "execution_count": 2,
   "id": "102993df",
   "metadata": {},
   "outputs": [],
   "source": [
    "from h2ogpte import H2OGPTE\n",
    "\n",
    "import json"
   ]
  },
  {
   "cell_type": "code",
   "execution_count": 3,
   "id": "e4a62e6e",
   "metadata": {},
   "outputs": [],
   "source": [
    "with open('_secret') as f:\n",
    "    key = json.load(f)"
   ]
  },
  {
   "cell_type": "code",
   "execution_count": 4,
   "id": "d8e75be7",
   "metadata": {},
   "outputs": [
    {
     "data": {
      "text/plain": [
       "<h2ogpte.h2ogpte.H2OGPTE at 0x1098bfac0>"
      ]
     },
     "execution_count": 4,
     "metadata": {},
     "output_type": "execute_result"
    }
   ],
   "source": [
    "client = H2OGPTE(\n",
    "    address='https://playground.h2ogpte.h2o.ai',\n",
    "    api_key=key['movie_sample'],\n",
    ")\n",
    "\n",
    "client"
   ]
  },
  {
   "cell_type": "code",
   "execution_count": 5,
   "id": "3f5a9cfa",
   "metadata": {},
   "outputs": [
    {
     "data": {
      "text/plain": [
       "['mistralai/Mixtral-8x7B-Instruct-v0.1',\n",
       " 'meta-llama/Meta-Llama-3-8B-Instruct',\n",
       " 'meta-llama/Meta-Llama-3-70B-Instruct',\n",
       " 'nvidia/Llama3-ChatQA-1.5-70B',\n",
       " 'NousResearch/Nous-Capybara-34B',\n",
       " 'mistralai/Mistral-7B-Instruct-v0.3',\n",
       " 'h2oai/h2o-danube2-1.8b-chat',\n",
       " 'mistralai/Mistral-Nemo-Instruct-2407',\n",
       " 'OpenGVLab/InternVL-Chat-V1-5',\n",
       " 'THUDM/cogvlm2-llama3-chat-19B',\n",
       " 'liuhaotian/llava-v1.6-34b',\n",
       " 'lmms-lab/llama3-llava-next-8b',\n",
       " 'mistral-small-latest',\n",
       " 'mistral-large-latest',\n",
       " 'mistral-medium',\n",
       " 'claude-3-5-sonnet-20240620',\n",
       " 'claude-3-sonnet-20240229',\n",
       " 'claude-3-opus-20240229',\n",
       " 'claude-3-haiku-20240307',\n",
       " 'microsoft/Phi-3-vision-128k-instruct',\n",
       " 'microsoft/Phi-3-medium-128k-instruct',\n",
       " 'google/gemma-2-27b-it',\n",
       " 'gemini-1.5-pro-latest',\n",
       " 'gemini-1.5-flash-latest',\n",
       " 'gpt-3.5-turbo-0613',\n",
       " 'gpt-3.5-turbo-16k-0613',\n",
       " 'gpt-35-turbo-1106',\n",
       " 'gpt-4-1106-preview',\n",
       " 'gpt-4-turbo-2024-04-09']"
      ]
     },
     "execution_count": 5,
     "metadata": {},
     "output_type": "execute_result"
    }
   ],
   "source": [
    "client.get_llm_names()"
   ]
  },
  {
   "cell_type": "code",
   "execution_count": null,
   "id": "d614fe96",
   "metadata": {},
   "outputs": [],
   "source": []
  },
  {
   "cell_type": "code",
   "execution_count": 23,
   "id": "67b20f88",
   "metadata": {},
   "outputs": [
    {
     "data": {
      "text/plain": [
       "1"
      ]
     },
     "execution_count": 23,
     "metadata": {},
     "output_type": "execute_result"
    }
   ],
   "source": [
    "client.count_documents()"
   ]
  },
  {
   "cell_type": "code",
   "execution_count": 14,
   "id": "54baad56",
   "metadata": {},
   "outputs": [
    {
     "data": {
      "text/plain": [
       "CollectionInfo(id='bbc1a192-1d80-4e57-aeca-0af8d49adf40', name='movie_sample', description='この文脈は、さまざまなジャンルの映画について説明しているものである。', document_count=1, document_size=159328, updated_at=datetime.datetime(2024, 7, 24, 3, 0, 23, 612571, tzinfo=TzInfo(UTC)), user_count=1, is_public=False, username='yuki.shimada@h2o.ai', sessions_count=4)"
      ]
     },
     "execution_count": 14,
     "metadata": {},
     "output_type": "execute_result"
    }
   ],
   "source": [
    "collection = client.get_default_collection()\n",
    "collection"
   ]
  },
  {
   "cell_type": "code",
   "execution_count": 15,
   "id": "541bfd8d",
   "metadata": {},
   "outputs": [
    {
     "data": {
      "text/plain": [
       "h2ogpte.types.CollectionInfo"
      ]
     },
     "execution_count": 15,
     "metadata": {},
     "output_type": "execute_result"
    }
   ],
   "source": [
    "type(collection)"
   ]
  },
  {
   "cell_type": "markdown",
   "id": "d6a8079d",
   "metadata": {},
   "source": [
    "https://h2oai.github.io/h2ogpte/h2ogpte.html#h2ogpte.types.CollectionInfo"
   ]
  },
  {
   "cell_type": "code",
   "execution_count": null,
   "id": "e012833f",
   "metadata": {},
   "outputs": [],
   "source": []
  },
  {
   "cell_type": "code",
   "execution_count": 50,
   "id": "4e8447a0",
   "metadata": {},
   "outputs": [
    {
     "data": {
      "text/plain": [
       "[DocumentInfo(id='498ee3dc-c7e5-46ab-b5b6-56001318c019', username='yuki.shimada@h2o.ai', name='movies_sample_story.pdf', type='PDF', size=159328, page_count=7, pii_settings=None, connector='Upload', uri=None, original_type='Text', meta_data_dict={}, status='completed', updated_at=datetime.datetime(2024, 7, 24, 4, 2, 26, 659657, tzinfo=TzInfo(UTC)))]"
      ]
     },
     "execution_count": 50,
     "metadata": {},
     "output_type": "execute_result"
    }
   ],
   "source": [
    "document_info = client.list_documents_in_collection(collection.id, offset=0, limit=999)\n",
    "document_info"
   ]
  },
  {
   "cell_type": "markdown",
   "id": "8e718e0c",
   "metadata": {},
   "source": [
    "list_documents_in_collection(): https://h2oai.github.io/h2ogpte/h2ogpte.html#h2ogpte.h2ogpte.H2OGPTE.list_documents_in_collection"
   ]
  },
  {
   "cell_type": "code",
   "execution_count": 51,
   "id": "f22df5f6",
   "metadata": {},
   "outputs": [
    {
     "data": {
      "text/plain": [
       "h2ogpte.types.DocumentInfo"
      ]
     },
     "execution_count": 51,
     "metadata": {},
     "output_type": "execute_result"
    }
   ],
   "source": [
    "type(document_info[0])"
   ]
  },
  {
   "cell_type": "markdown",
   "id": "c2d6687c",
   "metadata": {},
   "source": [
    "https://h2oai.github.io/h2ogpte/h2ogpte.html#h2ogpte.types.DocumentInfo"
   ]
  },
  {
   "cell_type": "code",
   "execution_count": null,
   "id": "dc4bcf7d",
   "metadata": {},
   "outputs": [],
   "source": []
  },
  {
   "cell_type": "code",
   "execution_count": 72,
   "id": "5c81b857",
   "metadata": {},
   "outputs": [
    {
     "data": {
      "text/plain": [
       "35"
      ]
     },
     "execution_count": 72,
     "metadata": {},
     "output_type": "execute_result"
    }
   ],
   "source": [
    "doc_chunks = client.list_document_chunks(document_info[0].id)\n",
    "len(doc_chunks)"
   ]
  },
  {
   "cell_type": "code",
   "execution_count": 73,
   "id": "91b4bc95",
   "metadata": {},
   "outputs": [
    {
     "data": {
      "text/plain": [
       "SearchResult(id=28, topic='498ee3dc-c7e5-46ab-b5b6-56001318c019', name='movies_sample_story.pdf', text='# Movie Title\\nToy Story (1995)\\n# Movie Detail\\n『トイ・ストーリー』（1995 年）は、冒険、アニメーション、子供向け、コメディ、ファンタジーというジャンルを持つ映画です。この作品は、子供たちから大人まで幅広\\nい層に愛されている名作です。\\n物語は、主人公のウッディというおもちゃのカウボーイが、新しくやってきたおもちゃのバズ・ライトイヤーとの出会いをきっかけに展開します。ウッディは、バズの登場によっ\\nて自分の存在意義に悩み始めますが、やがて二人は協力し合い、友情を深めていきます。\\nこの映画は、おもちゃたちの秘密の生活を描いており、彼らが人間に見られないように動き回る様子が描かれています。おもちゃたちは、人間がいない間に自分たちの世界を築き\\n', size=923, pages='{\"version\": 0, \"selections\": [{\"page\": 1, \"block\": 0, \"polygons\": [{\"x\": 58.0, \"y\": 57.7016}, {\"x\": 134.801, \"y\": 57.7016}, {\"x\": 134.801, \"y\": 67.7016}, {\"x\": 134.0, \"y\": 67.7016}, {\"x\": 134.0, \"y\": 69.0516}, {\"x\": 152.801, \"y\": 69.0516}, {\"x\": 152.801, \"y\": 79.0516}, {\"x\": 140.0, \"y\": 79.0516}, {\"x\": 140.0, \"y\": 91.7516}, {\"x\": 140.801, \"y\": 91.7516}, {\"x\": 140.801, \"y\": 101.7516}, {\"x\": 140.0, \"y\": 101.7516}, {\"x\": 140.0, \"y\": 103.1016}, {\"x\": 532.851, \"y\": 103.1016}, {\"x\": 532.851, \"y\": 113.1016}, {\"x\": 140.0, \"y\": 113.1016}, {\"x\": 140.0, \"y\": 114.4516}, {\"x\": 140.801, \"y\": 114.4516}, {\"x\": 140.801, \"y\": 124.4516}, {\"x\": 56.8, \"y\": 124.4516}, {\"x\": 56.8, \"y\": 57.7016}]}, {\"page\": 1, \"block\": 1, \"polygons\": [{\"x\": 58.0, \"y\": 137.1517}, {\"x\": 536.901, \"y\": 137.1517}, {\"x\": 536.901, \"y\": 147.1517}, {\"x\": 296.0, \"y\": 147.1517}, {\"x\": 296.0, \"y\": 148.5016}, {\"x\": 296.851, \"y\": 148.5016}, {\"x\": 296.851, \"y\": 158.5016}, {\"x\": 56.8, \"y\": 158.5016}, {\"x\": 56.8, \"y\": 137.1517}]}, {\"page\": 1, \"block\": 2, \"polygons\": [{\"x\": 58.0, \"y\": 171.2016}, {\"x\": 536.901, \"y\": 171.2016}, {\"x\": 536.901, \"y\": 181.2016}, {\"x\": 56.8, \"y\": 181.2016}, {\"x\": 56.8, \"y\": 171.2016}]}]}', score=0.0)"
      ]
     },
     "execution_count": 73,
     "metadata": {},
     "output_type": "execute_result"
    }
   ],
   "source": [
    "doc_chunks[0]"
   ]
  },
  {
   "cell_type": "code",
   "execution_count": 74,
   "id": "3dffb979",
   "metadata": {},
   "outputs": [
    {
     "data": {
      "text/plain": [
       "h2ogpte.types.SearchResult"
      ]
     },
     "execution_count": 74,
     "metadata": {},
     "output_type": "execute_result"
    }
   ],
   "source": [
    "type(doc_chunks[0])"
   ]
  },
  {
   "cell_type": "markdown",
   "id": "fc42ba55",
   "metadata": {},
   "source": [
    "https://h2oai.github.io/h2ogpte/h2ogpte.html#h2ogpte.types.SearchResult"
   ]
  },
  {
   "cell_type": "code",
   "execution_count": 85,
   "id": "b36d921d",
   "metadata": {},
   "outputs": [
    {
     "data": {
      "text/plain": [
       "SearchResult(id=29, topic='498ee3dc-c7e5-46ab-b5b6-56001318c019', name='movies_sample_story.pdf', text='上げ、さまざまな冒険やドタバタを繰り広げます。\\nまた、本作はアニメーション映画としても非常に優れており、豪華な映像と緻密なストーリーテリングが魅力です。おもちゃたちの表情や動きがリアルに描かれており、観る者を\\n引き込むこと間違いありません。\\nさらに、コメディ要素も豊富に盛り込まれており、笑いの連続です。おもちゃたちが巻き起こす騒動や、ユーモア溢れるセリフが観客を楽しませてくれます。子供たちはもちろん、\\n大人も心から笑える作品です。\\n『トイ・ストーリー』は、子供たちに夢と冒険を与えるだけでなく、大人たちにも感動と笑いを届ける作品です。おもちゃたちの絆や成長、友情の尊さを描いたこの映画は、誰も\\nが心に残る感動を与えてくれることでしょう。ぜひ、家族や友人と一緒に楽しんでください。\\n##########################\\n# Movie Title\\nSeven (a.k.a.', size=1066, pages='{\"version\": 0, \"selections\": [{\"page\": 1, \"block\": 2, \"polygons\": [{\"x\": 58.0, \"y\": 182.5516}, {\"x\": 194.851, \"y\": 182.5516}, {\"x\": 194.851, \"y\": 192.5516}, {\"x\": 56.8, \"y\": 192.5516}, {\"x\": 56.8, \"y\": 182.5516}]}, {\"page\": 1, \"block\": 3, \"polygons\": [{\"x\": 58.0, \"y\": 205.2516}, {\"x\": 536.901, \"y\": 205.2516}, {\"x\": 536.901, \"y\": 215.2516}, {\"x\": 146.0, \"y\": 215.2516}, {\"x\": 146.0, \"y\": 216.6016}, {\"x\": 146.801, \"y\": 216.6016}, {\"x\": 146.801, \"y\": 226.6016}, {\"x\": 56.8, \"y\": 226.6016}, {\"x\": 56.8, \"y\": 205.2516}]}, {\"page\": 1, \"block\": 4, \"polygons\": [{\"x\": 58.0, \"y\": 239.3016}, {\"x\": 542.901, \"y\": 239.3016}, {\"x\": 542.901, \"y\": 249.3016}, {\"x\": 140.0, \"y\": 249.3016}, {\"x\": 140.0, \"y\": 250.6517}, {\"x\": 140.801, \"y\": 250.6517}, {\"x\": 140.801, \"y\": 260.6516}, {\"x\": 56.8, \"y\": 260.6516}, {\"x\": 56.8, \"y\": 239.3016}]}, {\"page\": 1, \"block\": 5, \"polygons\": [{\"x\": 58.0, \"y\": 273.3516}, {\"x\": 536.901, \"y\": 273.3516}, {\"x\": 536.901, \"y\": 283.3516}, {\"x\": 308.0, \"y\": 283.3516}, {\"x\": 308.0, \"y\": 284.7016}, {\"x\": 308.851, \"y\": 284.7016}, {\"x\": 308.851, \"y\": 294.7016}, {\"x\": 218.0, \"y\": 294.7016}, {\"x\": 218.0, \"y\": 307.4016}, {\"x\": 218.801, \"y\": 307.4016}, {\"x\": 218.801, \"y\": 317.4016}, {\"x\": 134.0, \"y\": 317.4016}, {\"x\": 134.0, \"y\": 318.7516}, {\"x\": 134.801, \"y\": 318.7516}, {\"x\": 134.801, \"y\": 340.1016}, {\"x\": 56.8, \"y\": 340.1016}, {\"x\": 56.8, \"y\": 318.7516}, {\"x\": 62.0, \"y\": 318.7516}, {\"x\": 62.8, \"y\": 317.4016}, {\"x\": 62.8, \"y\": 307.4016}, {\"x\": 64.0, \"y\": 307.4016}, {\"x\": 64.0, \"y\": 294.7016}, {\"x\": 56.8, \"y\": 294.7016}, {\"x\": 56.8, \"y\": 273.3516}]}]}', score=0.0)"
      ]
     },
     "execution_count": 85,
     "metadata": {},
     "output_type": "execute_result"
    }
   ],
   "source": [
    "doc_chunks[1]"
   ]
  },
  {
   "cell_type": "code",
   "execution_count": null,
   "id": "305938df",
   "metadata": {},
   "outputs": [],
   "source": []
  },
  {
   "cell_type": "markdown",
   "id": "1a7491b1",
   "metadata": {},
   "source": [
    "### Summarization"
   ]
  },
  {
   "cell_type": "code",
   "execution_count": 98,
   "id": "7e1f50d6",
   "metadata": {},
   "outputs": [
    {
     "name": "stdout",
     "output_type": "stream",
     "text": [
      "CPU times: user 682 ms, sys: 38.3 ms, total: 720 ms\n",
      "Wall time: 50.8 s\n"
     ]
    },
    {
     "data": {
      "text/plain": [
       "DocumentSummary(id='f1eb5b59-cc2f-460e-b1bd-395584facd02', content=\"- The Lord of the Rings: The Fellowship of the Ring (2001) is a must-see film for those who enjoy adventure and fantasy. It faithfully recreates Tolkien's original work while adding cinematic appeal.\\n- The story revolves around Frodo Baggins, who is tasked with destroying a ring that holds the power to control all. He embarks on a journey with a diverse group of companions from various races and abilities.\\n- The film offers stunning visual effects, beautiful landscapes, and captivating action scenes.\\n- It also explores deep themes such as the darkness, loneliness, and despair within the human psyche, providing a thought-provoking experience.\\n- The movie has a dark and unique atmosphere, with impressive visuals and music.\\n\\n- American Beauty (1999) is a drama and romance film about a middle-aged man, Lester Burnham, rediscovering life and love after meeting a young girl named Angela.\\n- The film features Kevin Spacey's remarkable performance, capturing Lester's internal struggles and transformations.\\n- It blends drama and romance elements seamlessly, evoking deep emotions and contemplation about family, love, and self-discovery.\\n\\n- The Matrix (1999) is a sci-fi action film about a man named Neo learning about the truth of the world, a simulated reality called the Matrix, and fighting against the AI that controls it.\\n- The film is known for its groundbreaking visual effects and philosophical themes, such as the nature of reality and free will.\\n- It features intense action scenes, thrilling fight sequences, and a compelling narrative that keeps viewers on the edge of their seats.\\n\\n- Raiders of the Lost Ark (Indiana Jones and the Raiders of the Lost Ark) (1981) is an action-adventure film about Indiana Jones retrieving the lost Ark of the Covenant from the Nazis.\\n- The film boasts a thrilling story, memorable characters, and spectacular action scenes, making it a classic in the genre.\\n\\n- Star Wars: Episode V - The Empire Strikes Back (1980) is a space opera film featuring a grand narrative, intriguing characters, and impressive visuals.\\n- The film focuses on the struggle between the Rebellion and the Empire, with Luke Skywalker's journey to become a Jedi at its core.\\n\\n- Apollo 13 (1995) is a drama and adventure film based on the real-life events of the Apollo 13 mission, where astronauts face numerous challenges to return home safely.\\n- The film highlights the teamwork, determination, and ingenuity required to overcome adversity, offering a thrilling and inspiring experience.\\n\\n- Braveheart (1995) is a historical drama about William Wallace's fight for Scotland's independence and freedom.\\n- The film features intense battle scenes, powerful performances, and a gripping story that tugs at the heartstrings.\\n\\n- The Usual Suspects (1995) is a crime thriller about a group of criminals becoming entangled in a larger conspiracy.\\n- The film is known for its unexpected twists and turns, keeping viewers engaged and guessing until the very end.\\n\\n- Toy Story (1995) is an animated film about the secret lives of toys when humans aren't around.\\n- The movie combines adventure, comedy, and heartwarming themes, making it a beloved classic for both children and adults.\", error='', document_id='498ee3dc-c7e5-46ab-b5b6-56001318c019', kwargs='{\"system_prompt\": \"You are h2oGPTe, an expert question-answering AI system created by H2O.ai that performs like GPT-4 by OpenAI.\", \"pre_prompt_summary\": \"In order to write a concise single-paragraph or bulleted list summary, pay attention to any chat history, any images given, or any following text:\", \"prompt_summary\": \"Using only any chat history, any images given, or any text above, write a condensed and concise summary of key results (preferably as bullet points).\", \"llm\": \"mistralai/Mixtral-8x7B-Instruct-v0.1\", \"llm_args\": {}, \"max_num_chunks\": 25, \"sampling_strategy\": \"auto\", \"keep_intermediate_results\": false, \"guided_json\": null, \"pages\": null, \"pii_settings\": {}, \"image_batch_image_prompt\": \"<response_instructions>\\\\n- Act as a keen observer with a sharp eye for detail.\\\\n- Analyze the content within the images.\\\\n- Provide insights based on your observations.\\\\n- Avoid making up facts.\\\\n- Do not forget to follow the system prompt.\\\\n</response_instructions>\\\\n\", \"image_batch_final_prompt\": \"<response_instructions>\\\\n- Check if the answers already given in <image> XML tags are useful.\\\\n  - Image answers came from a vision model capable of reading text and images within the images.\\\\n  - If image answers are useful, preserve all details the image answers provide and use them to construct a well-structured answer.\\\\n- Ignore image answers that had no useful content, because any single batch of images may not be relevant. Focus on all details from image answers that are relevant and useful.\\\\n- Check if the document text can answer the question.\\\\n- Check if the chat history can answer the question.\\\\n- Check if any figure captions can answer the question.\\\\n- If answers conflict between text, chat history, and figure captions, do not focus your response on this conflict.\\\\n  - In handling conflicting answers, use logical reasoning and supporting evidence to assess the plausibility of each answer.\\\\n  - In handling conflicting answers, choose the most consistent answer -- i.e., the most common answer among conflicts (self-consistency reasoning) or one that aligns with well-established facts.\\\\n  - In handling conflicting answers, one may choose one data source over another -- i.e., text is probably more reliable than an image when the question can be answered from text, while an image is more reliable than text for flowcharts, photos, etc.\\\\n- Do not forget to follow the system prompt.\\\\n- Finally, according to our chat history, the above documents, figure captions, or given images, construct a well-structured response.\\\\n</response_instructions>\\\\n\"}', created_at=datetime.datetime(2024, 7, 25, 1, 34, 5, 940476, tzinfo=TzInfo(UTC)), usage_stats='{\"response_time\": \"20.9732 seconds\", \"cost\": \"0.01065 [USD]\", \"llm_args\": {}, \"num_chunks\": 25, \"num_images\": 0, \"usage\": [{\"llm\": \"mistralai/Mixtral-8x7B-Instruct-v0.1\", \"input_tokens\": 12047, \"output_tokens\": 647, \"tokens_per_second\": 32.017, \"time_to_first_token\": 0.9723124504089355, \"origin\": \"process_document\", \"cost\": \"0.01065 [USD]\"}]}')"
      ]
     },
     "execution_count": 98,
     "metadata": {},
     "output_type": "execute_result"
    }
   ],
   "source": [
    "%%time\n",
    "summary = client.summarize_document(\n",
    "        document_id=document_info[0].id,\n",
    "    )\n",
    "summary"
   ]
  },
  {
   "cell_type": "code",
   "execution_count": 99,
   "id": "b1f7103c",
   "metadata": {},
   "outputs": [
    {
     "data": {
      "text/plain": [
       "\"- The Lord of the Rings: The Fellowship of the Ring (2001) is a must-see film for those who enjoy adventure and fantasy. It faithfully recreates Tolkien's original work while adding cinematic appeal.\\n- The story revolves around Frodo Baggins, who is tasked with destroying a ring that holds the power to control all. He embarks on a journey with a diverse group of companions from various races and abilities.\\n- The film offers stunning visual effects, beautiful landscapes, and captivating action scenes.\\n- It also explores deep themes such as the darkness, loneliness, and despair within the human psyche, providing a thought-provoking experience.\\n- The movie has a dark and unique atmosphere, with impressive visuals and music.\\n\\n- American Beauty (1999) is a drama and romance film about a middle-aged man, Lester Burnham, rediscovering life and love after meeting a young girl named Angela.\\n- The film features Kevin Spacey's remarkable performance, capturing Lester's internal struggles and transformations.\\n- It blends drama and romance elements seamlessly, evoking deep emotions and contemplation about family, love, and self-discovery.\\n\\n- The Matrix (1999) is a sci-fi action film about a man named Neo learning about the truth of the world, a simulated reality called the Matrix, and fighting against the AI that controls it.\\n- The film is known for its groundbreaking visual effects and philosophical themes, such as the nature of reality and free will.\\n- It features intense action scenes, thrilling fight sequences, and a compelling narrative that keeps viewers on the edge of their seats.\\n\\n- Raiders of the Lost Ark (Indiana Jones and the Raiders of the Lost Ark) (1981) is an action-adventure film about Indiana Jones retrieving the lost Ark of the Covenant from the Nazis.\\n- The film boasts a thrilling story, memorable characters, and spectacular action scenes, making it a classic in the genre.\\n\\n- Star Wars: Episode V - The Empire Strikes Back (1980) is a space opera film featuring a grand narrative, intriguing characters, and impressive visuals.\\n- The film focuses on the struggle between the Rebellion and the Empire, with Luke Skywalker's journey to become a Jedi at its core.\\n\\n- Apollo 13 (1995) is a drama and adventure film based on the real-life events of the Apollo 13 mission, where astronauts face numerous challenges to return home safely.\\n- The film highlights the teamwork, determination, and ingenuity required to overcome adversity, offering a thrilling and inspiring experience.\\n\\n- Braveheart (1995) is a historical drama about William Wallace's fight for Scotland's independence and freedom.\\n- The film features intense battle scenes, powerful performances, and a gripping story that tugs at the heartstrings.\\n\\n- The Usual Suspects (1995) is a crime thriller about a group of criminals becoming entangled in a larger conspiracy.\\n- The film is known for its unexpected twists and turns, keeping viewers engaged and guessing until the very end.\\n\\n- Toy Story (1995) is an animated film about the secret lives of toys when humans aren't around.\\n- The movie combines adventure, comedy, and heartwarming themes, making it a beloved classic for both children and adults.\""
      ]
     },
     "execution_count": 99,
     "metadata": {},
     "output_type": "execute_result"
    }
   ],
   "source": [
    "summary.content"
   ]
  },
  {
   "cell_type": "code",
   "execution_count": null,
   "id": "d9aabe70",
   "metadata": {},
   "outputs": [],
   "source": []
  },
  {
   "cell_type": "markdown",
   "id": "094b7a74",
   "metadata": {},
   "source": [
    "### RAG"
   ]
  },
  {
   "cell_type": "code",
   "execution_count": 86,
   "id": "526dc633",
   "metadata": {},
   "outputs": [
    {
     "data": {
      "text/plain": [
       "'2364d545-6f62-4d81-a920-795906ebe339'"
      ]
     },
     "execution_count": 86,
     "metadata": {},
     "output_type": "execute_result"
    }
   ],
   "source": [
    "chat_session_id = client.create_chat_session_on_default_collection()\n",
    "chat_session_id"
   ]
  },
  {
   "cell_type": "code",
   "execution_count": 91,
   "id": "20167038",
   "metadata": {},
   "outputs": [
    {
     "name": "stdout",
     "output_type": "stream",
     "text": [
      "以下の作品が戦争に関連する作品です。\n",
      "\n",
      "1. Braveheart (1995)\n",
      "2. Schindler's List (1993)\n",
      "3. Apollo 13 (1995)\n",
      "4. Independence Day (1996)\n",
      "\n",
      "これらの作品は、戦争の残酷さや人間の強さ、そして愛と勇気の力を描いた感動作です。具体的には、ブレイブハートは、13世紀のスコットランドを舞台に、勇敢な戦士ウィリアム・ウォレスの壮絶な物語を描いています。シンドラーのリストは、オスカー・シンドラーが、ホロコーストで救済を図った物語を描いています。アポロ13は、実際に起きた宇宙船アポロ13 号の事故を描いています。インデペンデンス・デイは、地球外生命体による侵略から地球を守るために立ち上がる人々の壮絶な戦いを描いています。\n",
      "CPU times: user 10.1 ms, sys: 3.84 ms, total: 13.9 ms\n",
      "Wall time: 44.4 s\n"
     ]
    }
   ],
   "source": [
    "%%time\n",
    "with client.connect(chat_session_id) as session:\n",
    "    reply = session.query(\n",
    "        '戦争に関連する作品はどれになりますか？',\n",
    "        llm='mistralai/Mixtral-8x7B-Instruct-v0.1',\n",
    "        rag_config={\"rag_type\": \"rag\"},   # (Normal) RAG \n",
    "    )\n",
    "    print(reply.content)"
   ]
  },
  {
   "cell_type": "code",
   "execution_count": 92,
   "id": "39ec1e83",
   "metadata": {},
   "outputs": [
    {
     "name": "stdout",
     "output_type": "stream",
     "text": [
      "以下の作品が戦争に関連するものです：\n",
      "\n",
      "* Braveheart (1995)\n",
      "* Schindler's List (1993)\n",
      "* Apollo 13 (1995)\n",
      "* Star Wars: Episode IV - A New Hope (1977)\n",
      "* Star Wars: Episode V - The Empire Strikes Back (1980)\n",
      "* Star Wars: Episode VI - Return of the Jedi (1983)\n",
      "* Saving Private Ryan (1998)\n",
      "* The Hurt Locker (2008)\n",
      "* American Sniper (2014)\n",
      "\n",
      "詳しい情報は、以下を参照してください：\n",
      "\n",
      "* Braveheart (1995)：アクション、ドラマ、戦争というジャンルの要素を巧みに組み合わせた作品。\n",
      "* Schindler's List (1993)：ドラマと戦争をテーマにした感動的な映画。\n",
      "* Apollo 13 (1995)：冒険、ドラマ、IMAX の要素を持つ映画。\n",
      "* Star Wars: Episode IV - A New Hope (1977)：アクション、冒険、SF の要素を持つ映画。\n",
      "* Star Wars: Episode V - The Empire Strikes Back (1980)：アクション、冒険、SF の要素を持つ壮大な映画。\n",
      "* Star Wars: Episode VI - Return of the Jedi (1983)：アクション、冒険、SF の要素を持つ映画。\n",
      "* Saving Private Ryan (1998)：戦争の撮影技術が革新的で、激しい戦争現場を描いた映画。\n",
      "* The Hurt Locker (2008)：アメリカの陸上部隊がiraqに配備された時代を舞台に、爆弾除去士官たちの日常を描いた映画。\n",
      "* American Sniper (2014)：アメリカのスナイパーの生涯を描いた映画。\n",
      "CPU times: user 17.5 ms, sys: 6.27 ms, total: 23.7 ms\n",
      "Wall time: 50.7 s\n"
     ]
    }
   ],
   "source": [
    "%%time\n",
    "with client.connect(chat_session_id) as session:\n",
    "    reply = session.query(\n",
    "        '戦争に関連する作品はどれになりますか？',\n",
    "        llm='mistralai/Mixtral-8x7B-Instruct-v0.1',\n",
    "        rag_config={\"rag_type\": \"hyde1\"},   # HyDE RAG\n",
    "    )\n",
    "    print(reply.content)"
   ]
  },
  {
   "cell_type": "code",
   "execution_count": 93,
   "id": "5b667c76",
   "metadata": {},
   "outputs": [
    {
     "name": "stdout",
     "output_type": "stream",
     "text": [
      "以下の作品が戦争に関連しています。\n",
      "\n",
      "1. Braveheart (1995)\n",
      "2. Schindler's List (1993)\n",
      "3. The Terminator 2: Judgment Day (1991)\n",
      "4. The Silence of the Lambs (1991)\n",
      "5. The Apollo 13 (1995)\n",
      "\n",
      "これらの作品は、戦争の残酷さや人間の強さ、そして愛と勇気の力を描いた感動作や、戦争の背景に立ち上がる人々の壮絶な戦いを描いた作品です。\n",
      "CPU times: user 18 ms, sys: 7.09 ms, total: 25.1 ms\n",
      "Wall time: 1min 27s\n"
     ]
    }
   ],
   "source": [
    "%%time\n",
    "with client.connect(chat_session_id) as session:\n",
    "    reply = session.query(\n",
    "        '戦争に関連する作品はどれになりますか？',\n",
    "        llm='mistralai/Mixtral-8x7B-Instruct-v0.1',\n",
    "        rag_config={\"rag_type\": \"hyde2\"},   # HyDE + RAG composite\n",
    "    )\n",
    "    print(reply.content)"
   ]
  },
  {
   "cell_type": "code",
   "execution_count": 94,
   "id": "46dff136",
   "metadata": {},
   "outputs": [
    {
     "name": "stdout",
     "output_type": "stream",
     "text": [
      "以下の作品が、戦争に関連する作品です。\n",
      "\n",
      "1. Braveheart (1995)\n",
      "2. Apollo 13 (1995)\n",
      "3. Schindler's List (1993)\n",
      "\n",
      "これらの映画は、戦争や軍事についての話題を取り上げています。Braveheart は、スコットランドの独立をテーマにした映画で、戦争の残酷さや人間の強さを描いています。Apollo 13 は、宇宙船アポロ13 号の事故を描いた映画で、冒険心と危険に立ち向かう勇気をテーマにしています。Schindler's List は、ナチス・ドイツ時代にポーランドで活動していた実業家であるオスカー・シンドラーの物語を描いた映画で、人間の善悪について考えさせられます。\n",
      "CPU times: user 10.7 ms, sys: 3.88 ms, total: 14.6 ms\n",
      "Wall time: 49.4 s\n"
     ]
    }
   ],
   "source": [
    "%%time\n",
    "with client.connect(chat_session_id) as session:\n",
    "    reply = session.query(\n",
    "        '戦争に関連する作品はどれになりますか？',\n",
    "        llm='mistralai/Mixtral-8x7B-Instruct-v0.1',\n",
    "        rag_config={\"rag_type\": \"rag+\"},   # Summary RAG\n",
    "    )\n",
    "    print(reply.content)"
   ]
  },
  {
   "cell_type": "code",
   "execution_count": null,
   "id": "d7ec5d67",
   "metadata": {},
   "outputs": [],
   "source": []
  }
 ],
 "metadata": {
  "kernelspec": {
   "display_name": "Python [conda env:llm] *",
   "language": "python",
   "name": "conda-env-llm-py"
  },
  "language_info": {
   "codemirror_mode": {
    "name": "ipython",
    "version": 3
   },
   "file_extension": ".py",
   "mimetype": "text/x-python",
   "name": "python",
   "nbconvert_exporter": "python",
   "pygments_lexer": "ipython3",
   "version": "3.10.12"
  }
 },
 "nbformat": 4,
 "nbformat_minor": 5
}
